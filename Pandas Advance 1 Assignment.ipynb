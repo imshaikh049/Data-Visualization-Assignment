{
 "cells": [
  {
   "cell_type": "code",
   "execution_count": null,
   "id": "b9b031be-bffa-4906-b1f6-ea4770836b88",
   "metadata": {},
   "outputs": [],
   "source": [
    "1. List any five functions of the Pandas library with execution.\n",
    "pd.read_csv(): Reads a CSV file into a DataFrame.\n",
    "\n",
    "\n",
    "\n",
    "import pandas as pd\n",
    "df = pd.read_csv('file.csv')\n",
    "df.head(): Returns the first n rows of the DataFrame.\n",
    "\n",
    "\n",
    "\n",
    "df = pd.DataFrame({'A': [1, 2, 3], 'B': [4, 5, 6]})\n",
    "print(df.head())\n",
    "df.describe(): Provides summary statistics for numerical columns.\n",
    "\n",
    "\n",
    "\n",
    "df = pd.DataFrame({'A': [1, 2, 3], 'B': [4, 5, 6]})\n",
    "print(df.describe())\n",
    "df.dropna(): Removes rows with missing values.\n",
    "\n",
    "\n",
    "\n",
    "df = pd.DataFrame({'A': [1, None, 3], 'B': [4, 5, None]})\n",
    "print(df.dropna())\n",
    "df.fillna(): Replaces missing values with a specified value.\n",
    "\n",
    "\n",
    "\n",
    "df = pd.DataFrame({'A': [1, None, 3], 'B': [4, 5, None]})\n",
    "print(df.fillna(0))"
   ]
  },
  {
   "cell_type": "code",
   "execution_count": null,
   "id": "36457aa0-db07-4b41-8157-58dd1c1b17c0",
   "metadata": {},
   "outputs": [],
   "source": [
    "Q2. Re-index the DataFrame with a new index starting from 1 and incrementing by 2.\n",
    "\n",
    "\n",
    "import pandas as pd\n",
    "\n",
    "def reindex_df(df):\n",
    "    df.index = range(1, len(df) * 2, 2)\n",
    "    return df\n",
    "\n",
    "# Example DataFrame\n",
    "df = pd.DataFrame({'A': [10, 20, 30], 'B': [40, 50, 60]})\n",
    "print(reindex_df(df))"
   ]
  },
  {
   "cell_type": "code",
   "execution_count": null,
   "id": "2c4d8cc2-165a-482c-90a9-8973a181a402",
   "metadata": {},
   "outputs": [],
   "source": [
    "Q3. Calculate the sum of the first three values in the 'Values' column.\n",
    "\n",
    "\n",
    "import pandas as pd\n",
    "\n",
    "def sum_first_three(df):\n",
    "    total = df['Values'].head(3).sum()\n",
    "    print(total)\n",
    "\n",
    "# Example DataFrame\n",
    "df = pd.DataFrame({'Values': [10, 20, 30, 40, 50]})\n",
    "sum_first_three(df)"
   ]
  },
  {
   "cell_type": "code",
   "execution_count": null,
   "id": "facaade7-1dd3-4732-9822-e47cb9a288ea",
   "metadata": {},
   "outputs": [],
   "source": [
    "Q4. Create a new column 'Word_Count' that contains the number of words in each row of the 'Text' column.\n",
    "\n",
    "\n",
    "import pandas as pd\n",
    "\n",
    "def add_word_count(df):\n",
    "    df['Word_Count'] = df['Text'].apply(lambda x: len(x.split()))\n",
    "    return df\n",
    "\n",
    "# Example DataFrame\n",
    "df = pd.DataFrame({'Text': ['Hello world', 'Pandas is great', ' programming']})\n",
    "print(add_word_count(df))"
   ]
  },
  {
   "cell_type": "code",
   "execution_count": null,
   "id": "2f4b38b0-2079-413a-bacf-1b4a6580cbac",
   "metadata": {},
   "outputs": [],
   "source": [
    "Q5. Difference between DataFrame.size and DataFrame.shape.\n",
    "DataFrame.size: Returns the total number of elements in the DataFrame (rows * columns).\n",
    "DataFrame.shape: Returns a tuple representing the dimensions of the DataFrame (number of rows, number of columns).\n",
    "Example:\n",
    "\n",
    "\n",
    "\n",
    "import pandas as pd\n",
    "\n",
    "df = pd.DataFrame({'A': [1, 2], 'B': [3, 4]})\n",
    "print(df.size)  # Output: 4\n",
    "print(df.shape) # Output: (2, 2)"
   ]
  },
  {
   "cell_type": "code",
   "execution_count": null,
   "id": "7b6d3085-ba2c-4fc3-832f-4c8759e6dad1",
   "metadata": {},
   "outputs": [],
   "source": [
    "Q6. Function to read an Excel file in Pandas.\n",
    "pd.read_excel()\n",
    "\n",
    "\n",
    "\n",
    "import pandas as pd\n",
    "\n",
    "df = pd.read_excel('file.xlsx')\n",
    "print(df)"
   ]
  },
  {
   "cell_type": "code",
   "execution_count": null,
   "id": "e0b2c3f0-0896-46c7-a1a4-699b86f5fa3f",
   "metadata": {},
   "outputs": [],
   "source": [
    "Q7. Create a new column 'Username' from the 'Email' column.\n",
    "\n",
    "\n",
    "import pandas as pd\n",
    "\n",
    "def extract_username(df):\n",
    "    df['Username'] = df['Email'].apply(lambda x: x.split('@')[0])\n",
    "    return df\n",
    "\n",
    "# Example DataFrame\n",
    "df = pd.DataFrame({'Email': ['john.doe@example.com', 'jane.doe@example.com']})\n",
    "print(extract_username(df))"
   ]
  },
  {
   "cell_type": "code",
   "execution_count": null,
   "id": "e2afe527-84b9-4bca-b392-a673ae8cfaec",
   "metadata": {},
   "outputs": [],
   "source": [
    "Q8. Select all rows where the value in column 'A' is greater than 5 and the value in column 'B' is less than 10.\n",
    "\n",
    "\n",
    "import pandas as pd\n",
    "\n",
    "def filter_rows(df):\n",
    "    return df[(df['A'] > 5) & (df['B'] < 10)]\n",
    "\n",
    "# Example DataFrame\n",
    "df = pd.DataFrame({'A': [3, 8, 6, 2, 9], 'B': [5, 2, 9, 3, 1], 'C': [1, 7, 4, 5, 2]})\n",
    "print(filter_rows(df))"
   ]
  },
  {
   "cell_type": "code",
   "execution_count": null,
   "id": "2e7c4c13-ae40-4935-af18-8e541af9d76c",
   "metadata": {},
   "outputs": [],
   "source": [
    "Q9. Calculate the mean, median, and standard deviation of the 'Values' column.\n",
    "\n",
    "\n",
    "import pandas as pd\n",
    "\n",
    "def calc_stats(df):\n",
    "    mean = df['Values'].mean()\n",
    "    median = df['Values'].median()\n",
    "    std_dev = df['Values'].std()\n",
    "    print(f\"Mean: {mean}, Median: {median}, Std Dev: {std_dev}\")\n",
    "\n",
    "# Example DataFrame\n",
    "df = pd.DataFrame({'Values': [10, 20, 30, 40, 50]})\n",
    "calc_stats(df)"
   ]
  },
  {
   "cell_type": "code",
   "execution_count": null,
   "id": "bada620a-87d3-4e84-b10e-075d7317ad13",
   "metadata": {},
   "outputs": [],
   "source": [
    "Q10. Create a 'MovingAverage' column for sales data with a window of size 7.\n",
    "\n",
    "\n",
    "import pandas as pd\n",
    "\n",
    "def add_moving_average(df):\n",
    "    df['MovingAverage'] = df['Sales'].rolling(window=7, min_periods=1).mean()\n",
    "    return df\n",
    "\n",
    "# Example DataFrame with Date and Sales columns\n",
    "df = pd.DataFrame({'Date': pd.date_range(start='2023-01-01', periods=10),\n",
    "                   'Sales': [10, 20, 30, 40, 50, 60, 70, 80, 90, 100]})\n",
    "print(add_moving_average(df))"
   ]
  },
  {
   "cell_type": "code",
   "execution_count": null,
   "id": "a11a4abd-abff-4749-b0c3-6c5bd470863a",
   "metadata": {},
   "outputs": [],
   "source": [
    "11. Create a new column 'Weekday' from the 'Date' column.\n",
    "\n",
    "\n",
    "import pandas as pd\n",
    "\n",
    "def add_weekday(df):\n",
    "    df['Weekday'] = df['Date'].dt.day_name()\n",
    "    return df\n",
    "\n",
    "# Example DataFrame\n",
    "df = pd.DataFrame({'Date': pd.to_datetime(['2023-01-01', '2023-01-02', '2023-01-03', '2023-01-04', '2023-01-05'])})\n",
    "print(add_weekday(df))"
   ]
  },
  {
   "cell_type": "code",
   "execution_count": null,
   "id": "d2dfd422-1bd7-43f4-af7a-7c591ef83436",
   "metadata": {},
   "outputs": [],
   "source": []
  }
 ],
 "metadata": {
  "kernelspec": {
   "display_name": "Python 3 (ipykernel)",
   "language": "python",
   "name": "python3"
  },
  "language_info": {
   "codemirror_mode": {
    "name": "ipython",
    "version": 3
   },
   "file_extension": ".py",
   "mimetype": "text/x-python",
   "name": "python",
   "nbconvert_exporter": "python",
   "pygments_lexer": "ipython3",
   "version": "3.10.8"
  }
 },
 "nbformat": 4,
 "nbformat_minor": 5
}
