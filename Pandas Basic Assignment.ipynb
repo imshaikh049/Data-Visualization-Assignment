{
 "cells": [
  {
   "cell_type": "code",
   "execution_count": null,
   "id": "8364fe43-f025-40a8-a877-f4e2dfa7dcff",
   "metadata": {},
   "outputs": [],
   "source": [
    "Q1. Create a Pandas Series that contains the following data: 4, 8, 15, 16, 23, and 42. Then, print the series.\n",
    "\n",
    "\n",
    "import pandas as pd\n",
    "\n",
    "data = [4, 8, 15, 16, 23, 42]\n",
    "series = pd.Series(data)\n",
    "print(series)\n"
   ]
  },
  {
   "cell_type": "code",
   "execution_count": null,
   "id": "84b9c0c0-a11d-427a-a5b9-7ef7002f8c04",
   "metadata": {},
   "outputs": [],
   "source": [
    "Q2. Create a variable of list type containing 10 elements in it, and apply pandas.Series function on the variable. Print it.\n",
    "\n",
    "\n",
    "import pandas as pd\n",
    "\n",
    "data_list = [1, 2, 3, 4, 5, 6, 7, 8, 9, 10]\n",
    "series = pd.Series(data_list)\n",
    "print(series)\n"
   ]
  },
  {
   "cell_type": "code",
   "execution_count": null,
   "id": "7e5dcec7-269e-4f51-b241-129aef99dd8e",
   "metadata": {},
   "outputs": [],
   "source": [
    "Q3. Create a Pandas DataFrame that contains the following data:\n",
    "Let's assume the data is:\n",
    "\n",
    "Name    Age  City\n",
    "Alice   30   New York\n",
    "Bob     25   Los Angeles\n",
    "Charlie 35   Chicago\n",
    "\n",
    "\n",
    "import pandas as pd\n",
    "\n",
    "data = {\n",
    "    'Name': ['Alice', 'Bob', 'Charlie'],\n",
    "    'Age': [30, 25, 35],\n",
    "    'City': ['New York', 'Los Angeles', 'Chicago']\n",
    "}\n",
    "\n",
    "df = pd.DataFrame(data)\n",
    "print(df)\n"
   ]
  },
  {
   "cell_type": "code",
   "execution_count": null,
   "id": "dc46bed8-04a0-4f28-b7f5-0b59627f0f49",
   "metadata": {},
   "outputs": [],
   "source": [
    "Q4. What is ‘DataFrame’ in pandas and how is it different from pandas.Series? Explain with an example.\n",
    "DataFrame: A DataFrame is a two-dimensional, size-mutable, and heterogeneous tabular data structure with labeled axes (rows and columns). It is akin to a spreadsheet or SQL table and can hold data of different types (e.g., integers, strings).\n",
    "\n",
    "Series: A Series is a one-dimensional labeled array capable of holding data of any type (e.g., integers, strings). It is similar to a column in a DataFrame or a list with labels.\n",
    "\n",
    "Example:\n",
    "    \n",
    "import pandas as pd\n",
    "\n",
    "# Series example\n",
    "s = pd.Series([1, 2, 3, 4], index=['a', 'b', 'c', 'd'])\n",
    "print(\"Series:\")\n",
    "print(s)\n",
    "\n",
    "# DataFrame example\n",
    "df = pd.DataFrame({\n",
    "    'A': [1, 2, 3, 4],\n",
    "    'B': [5, 6, 7, 8]\n",
    "}, index=['a', 'b', 'c', 'd'])\n",
    "print(\"DataFrame:\")\n",
    "print(df)\n",
    "\n",
    "\n",
    "Difference:\n",
    "\n",
    "A Series is a single column of data with an index.\n",
    "A DataFrame is a collection of Series, where each Series represents a column."
   ]
  },
  {
   "cell_type": "code",
   "execution_count": null,
   "id": "3e4a0455-258b-4b62-a021-d69676cb406f",
   "metadata": {},
   "outputs": [],
   "source": []
  },
  {
   "cell_type": "code",
   "execution_count": null,
   "id": "982feea1-2fb9-4742-af87-b371e22fbc84",
   "metadata": {},
   "outputs": [],
   "source": []
  },
  {
   "cell_type": "code",
   "execution_count": null,
   "id": "6edc7dd3-d520-48c8-91fa-774dbc63f119",
   "metadata": {},
   "outputs": [],
   "source": []
  },
  {
   "cell_type": "code",
   "execution_count": null,
   "id": "f9424235-728d-4f75-ab4e-6e02a4abc154",
   "metadata": {},
   "outputs": [],
   "source": []
  }
 ],
 "metadata": {
  "kernelspec": {
   "display_name": "Python 3 (ipykernel)",
   "language": "python",
   "name": "python3"
  },
  "language_info": {
   "codemirror_mode": {
    "name": "ipython",
    "version": 3
   },
   "file_extension": ".py",
   "mimetype": "text/x-python",
   "name": "python",
   "nbconvert_exporter": "python",
   "pygments_lexer": "ipython3",
   "version": "3.10.8"
  }
 },
 "nbformat": 4,
 "nbformat_minor": 5
}
