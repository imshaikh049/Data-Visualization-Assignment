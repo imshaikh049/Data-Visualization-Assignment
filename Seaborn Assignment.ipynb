{
 "cells": [
  {
   "cell_type": "code",
   "execution_count": null,
   "id": "f69b4a51-6ff0-4cb5-847c-ba883a957584",
   "metadata": {},
   "outputs": [],
   "source": [
    "Q1: Five Plots Using Seaborn and Their Uses\n",
    "Histogram (sns.histplot())\n",
    "\n",
    "Use: To visualize the distribution of a single continuous variable.\n",
    "Box Plot (sns.boxplot())\n",
    "\n",
    "Use: To show the distribution of a continuous variable and identify outliers across different categories.\n",
    "Scatter Plot (sns.scatterplot())\n",
    "\n",
    "Use: To visualize the relationship between two continuous variables.\n",
    "Pair Plot (sns.pairplot())\n",
    "\n",
    "Use: To visualize pairwise relationships in a dataset, useful for exploring correlations and distributions across multiple variables.\n",
    "Heatmap (sns.heatmap())\n",
    "\n",
    "Use: To display data in matrix form, where colors represent the magnitude of values, useful for visualizing correlations or patterns in data."
   ]
  },
  {
   "cell_type": "code",
   "execution_count": null,
   "id": "a82e9736-99d3-4fe0-a33c-2e37968e9112",
   "metadata": {},
   "outputs": [],
   "source": [
    "Q2: Line Plot with fmri Dataset\n",
    "\n",
    "import seaborn as sns\n",
    "import matplotlib.pyplot as plt\n",
    "\n",
    "# Load the dataset\n",
    "fmri = sns.load_dataset('fmri')\n",
    "\n",
    "# Plot the line plot\n",
    "sns.lineplot(data=fmri, x='timepoint', y='signal', hue='event', style='region')\n",
    "plt.title('Signal over Time by Event and Region')\n",
    "plt.xlabel('Timepoint')\n",
    "plt.ylabel('Signal')\n",
    "plt.show()\n"
   ]
  },
  {
   "cell_type": "code",
   "execution_count": null,
   "id": "9636b119-ab1e-4909-b303-6642973de69e",
   "metadata": {},
   "outputs": [],
   "source": [
    "Q3: Box Plots with titanic Dataset\n",
    "\n",
    "\n",
    "import seaborn as sns\n",
    "import matplotlib.pyplot as plt\n",
    "\n",
    "# Load the dataset\n",
    "titanic = sns.load_dataset('titanic')\n",
    "\n",
    "# Plot the box plots\n",
    "plt.figure(figsize=(12, 6))\n",
    "\n",
    "# Box plot for age\n",
    "plt.subplot(1, 2, 1)\n",
    "sns.boxplot(data=titanic, x='pclass', y='age')\n",
    "plt.title('Age by Pclass')\n",
    "\n",
    "# Box plot for fare\n",
    "plt.subplot(1, 2, 2)\n",
    "sns.boxplot(data=titanic, x='pclass', y='fare')\n",
    "plt.title('Fare by Pclass')\n",
    "\n",
    "plt.tight_layout()\n",
    "plt.show()"
   ]
  },
  {
   "cell_type": "code",
   "execution_count": null,
   "id": "4c9bfb9a-ce49-4210-88f7-4710d79eb96b",
   "metadata": {},
   "outputs": [],
   "source": [
    "Q4: Histogram with diamonds Dataset\n",
    "\n",
    "\n",
    "import seaborn as sns\n",
    "import matplotlib.pyplot as plt\n",
    "\n",
    "# Load the dataset\n",
    "diamonds = sns.load_dataset('diamonds')\n",
    "\n",
    "# Plot the histogram\n",
    "sns.histplot(data=diamonds, x='price', hue='cut', multiple='stack')\n",
    "plt.title('Price Distribution by Cut')\n",
    "plt.xlabel('Price')\n",
    "plt.ylabel('Frequency')\n",
    "plt.show()"
   ]
  },
  {
   "cell_type": "code",
   "execution_count": null,
   "id": "fbaa3d23-4efc-4a68-a043-84dcd36818c3",
   "metadata": {},
   "outputs": [],
   "source": [
    "Q5: Pair Plot with iris Dataset\n",
    "\n",
    "\n",
    "import seaborn as sns\n",
    "import matplotlib.pyplot as plt\n",
    "\n",
    "# Load the dataset\n",
    "iris = sns.load_dataset('iris')\n",
    "\n",
    "# Plot the pair plot\n",
    "sns.pairplot(data=iris, hue='species')\n",
    "plt.title('Pair Plot of Iris Dataset')\n",
    "plt.show()"
   ]
  },
  {
   "cell_type": "code",
   "execution_count": null,
   "id": "cc2929b1-ce8e-4542-a8ad-b06151426896",
   "metadata": {},
   "outputs": [],
   "source": [
    "Q6: Heatmap with flights Dataset\n",
    "\n",
    "\n",
    "import seaborn as sns\n",
    "import matplotlib.pyplot as plt\n",
    "\n",
    "# Load the dataset\n",
    "flights = sns.load_dataset('flights')\n",
    "\n",
    "# Pivot the dataset for the heatmap\n",
    "flights_pivot = flights.pivot_table(index='month', columns='year', values='passengers')\n",
    "\n",
    "# Plot the heatmap\n",
    "sns.heatmap(data=flights_pivot, cmap='YlGnBu', annot=True, fmt='d')\n",
    "plt.title('Number of Passengers per Month')\n",
    "plt.show()"
   ]
  }
 ],
 "metadata": {
  "kernelspec": {
   "display_name": "Python 3 (ipykernel)",
   "language": "python",
   "name": "python3"
  },
  "language_info": {
   "codemirror_mode": {
    "name": "ipython",
    "version": 3
   },
   "file_extension": ".py",
   "mimetype": "text/x-python",
   "name": "python",
   "nbconvert_exporter": "python",
   "pygments_lexer": "ipython3",
   "version": "3.10.8"
  }
 },
 "nbformat": 4,
 "nbformat_minor": 5
}
