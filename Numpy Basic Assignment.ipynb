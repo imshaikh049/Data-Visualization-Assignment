{
 "cells": [
  {
   "cell_type": "code",
   "execution_count": null,
   "id": "07e25632-f653-4aa5-b7dd-973d267c7b78",
   "metadata": {},
   "outputs": [],
   "source": [
    "Q1. Data Type Difference\n",
    "To print the data types of list_ and array_list:\n",
    "\n",
    "\n",
    "\n",
    "import numpy as np\n",
    "\n",
    "list_ = ['1', '2', '3', '4', '5']\n",
    "array_list = np.array(object=list_)\n",
    "\n",
    "print(\"Data type of list_:\", type(list_))\n",
    "print(\"Data type of array_list:\", type(array_list))"
   ]
  },
  {
   "cell_type": "code",
   "execution_count": null,
   "id": "9bee0aa2-04cb-491c-a178-79304a32f37c",
   "metadata": {},
   "outputs": [],
   "source": [
    "Q2. Data Type of Each Element\n",
    "To print the data type of each element in list_ and array_list:\n",
    "\n",
    "\n",
    "\n",
    "import numpy as np\n",
    "\n",
    "list_ = ['1', '2', '3', '4', '5']\n",
    "array_list = np.array(object=list_)\n",
    "\n",
    "print(\"Data types of elements in list_:\")\n",
    "for elem in list_:\n",
    "    print(type(elem))\n",
    "\n",
    "print(\"\\nData types of elements in array_list:\")\n",
    "for elem in array_list:\n",
    "    print(type(elem))"
   ]
  },
  {
   "cell_type": "code",
   "execution_count": null,
   "id": "317adbee-75d8-4667-9e8f-6b763aea2d88",
   "metadata": {},
   "outputs": [],
   "source": [
    "Q3. Difference After Changing array_list Data Type\n",
    "First, change the data type of array_list:\n",
    "\n",
    "\n",
    "\n",
    "import numpy as np\n",
    "\n",
    "list_ = ['1', '2', '3', '4', '5']\n",
    "array_list = np.array(object=list_, dtype=int)\n",
    "\n",
    "print(\"Data types of elements in list_:\")\n",
    "for elem in list_:\n",
    "    print(type(elem))\n",
    "\n",
    "print(\"\\nData types of elements in array_list:\")\n",
    "for elem in array_list:\n",
    "    print(type(elem))"
   ]
  },
  {
   "cell_type": "code",
   "execution_count": null,
   "id": "c47fba4a-f1ef-4515-8c4f-e4ff4891642d",
   "metadata": {},
   "outputs": [],
   "source": [
    "Q4. Characteristics of num_array\n",
    "To find the shape and size of num_array:\n",
    "\n",
    "\n",
    "\n",
    "import numpy as np\n",
    "\n",
    "num_list = [[1, 2, 3], [4, 5, 6]]\n",
    "num_array = np.array(object=num_list)\n",
    "\n",
    "print(\"Shape of num_array:\", num_array.shape)\n",
    "print(\"Size of num_array:\", num_array.size)"
   ]
  },
  {
   "cell_type": "code",
   "execution_count": null,
   "id": "17e92000-3d7c-4d08-9262-421560b485cd",
   "metadata": {},
   "outputs": [],
   "source": [
    "Q5. Create a 3x3 Matrix of Zeros\n",
    "To create a 3x3 matrix of zeros:\n",
    "\n",
    "\n",
    "\n",
    "import numpy as np\n",
    "\n",
    "zero_matrix = np.zeros((3, 3))\n",
    "print(zero_matrix)"
   ]
  },
  {
   "cell_type": "code",
   "execution_count": null,
   "id": "4c8b705a-6c0b-4e21-b504-c1ca4d1636d3",
   "metadata": {},
   "outputs": [],
   "source": [
    "Q6. Create an Identity Matrix of Shape (5,5)\n",
    "To create a 5x5 identity matrix:\n",
    "\n",
    "\n",
    "\n",
    "import numpy as np\n",
    "\n",
    "identity_matrix = np.eye(5)\n",
    "print(identity_matrix)"
   ]
  }
 ],
 "metadata": {
  "kernelspec": {
   "display_name": "Python 3 (ipykernel)",
   "language": "python",
   "name": "python3"
  },
  "language_info": {
   "codemirror_mode": {
    "name": "ipython",
    "version": 3
   },
   "file_extension": ".py",
   "mimetype": "text/x-python",
   "name": "python",
   "nbconvert_exporter": "python",
   "pygments_lexer": "ipython3",
   "version": "3.10.8"
  }
 },
 "nbformat": 4,
 "nbformat_minor": 5
}
